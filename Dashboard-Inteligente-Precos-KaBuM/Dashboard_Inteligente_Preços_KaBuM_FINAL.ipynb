{
 "cells": [
  {
   "cell_type": "markdown",
   "id": "b95532d8",
   "metadata": {},
   "source": [
    "# 📊 Dashboard Inteligente de Preços - KaBuM!\n",
    "Este projeto realiza a coleta automatizada de preços de produtos na loja KaBuM utilizando Selenium, armazena os dados em CSV e apresenta visualizações interativas para análise de variação de preços ao longo do tempo.\n",
    "\n",
    "**Objetivos principais:**\n",
    "- Automatizar a extração de preços com base em palavras-chave;\n",
    "- Armazenar os dados em histórico (CSV);\n",
    "- Analisar e visualizar a evolução dos preços;\n",
    "- Criar gráficos comparativos para produtos buscados.\n"
   ]
  },
  {
   "cell_type": "code",
   "execution_count": null,
   "id": "1436da6e",
   "metadata": {},
   "outputs": [],
   "source": [
    "# Instalar dependências e configurar ambiente\n",
    "!pip install selenium > /dev/null\n",
    "!apt-get update > /dev/null\n",
    "!apt install chromium-chromedriver -y > /dev/null\n",
    "!cp /usr/lib/chromium-browser/chromedriver /usr/bin\n",
    "\n",
    "# Importações\n",
    "from selenium import webdriver\n",
    "from selenium.webdriver.chrome.options import Options\n",
    "from selenium.webdriver.common.by import By\n",
    "\n",
    "# Configuração do navegador invisível\n",
    "def iniciar_navegador():\n",
    "    chrome_options = Options()\n",
    "    chrome_options.add_argument(\"--headless\")\n",
    "    chrome_options.add_argument(\"--no-sandbox\")\n",
    "    chrome_options.add_argument(\"--disable-dev-shm-usage\")\n",
    "    return webdriver.Chrome(options=chrome_options)\n",
    "\n",
    "# Função para buscar produtos na Kabum\n",
    "def buscar_produtos_kabum(palavra_chave):\n",
    "    nav = iniciar_navegador()\n",
    "    url = f\"https://www.kabum.com.br/busca/{palavra_chave.replace(' ', '-')}\"\n",
    "    nav.get(url)\n",
    "\n",
    "    produtos = []\n",
    "    cards = nav.find_elements(By.CLASS_NAME, \"productCard\")[:5]\n",
    "\n",
    "    for card in cards:\n",
    "        try:\n",
    "            nome = card.find_element(By.CLASS_NAME, \"nameCard\").text\n",
    "            preco = card.find_element(By.CLASS_NAME, \"priceCard\").text\n",
    "            produtos.append((nome, preco))\n",
    "        except:\n",
    "            continue\n",
    "\n",
    "    nav.quit()\n",
    "    return produtos\n",
    "\n",
    "# 🔎 Testar com um exemplo\n",
    "resultado = buscar_produtos_kabum(\"notebook\")\n",
    "\n",
    "if resultado:\n",
    "    print(\"✅ Produtos encontrados:\\n\")\n",
    "    for nome, preco in resultado:\n",
    "        print(f\"📦 {nome}\\n💰 {preco}\\n\")\n",
    "else:\n",
    "    print(\"⚠️ Nenhum produto encontrado.\")\n"
   ]
  },
  {
   "cell_type": "code",
   "execution_count": null,
   "id": "d2423851",
   "metadata": {},
   "outputs": [],
   "source": [
    "import pandas as pd\n",
    "from datetime import datetime\n",
    "import os\n",
    "\n",
    "def salvar_em_csv(lista_produtos, nome_arquivo=\"dados_kabum.csv\"):\n",
    "    df = pd.DataFrame(lista_produtos, columns=[\"nome\", \"preco\"])\n",
    "    df[\"data_coleta\"] = datetime.now().strftime(\"%Y-%m-%d %H:%M:%S\")\n",
    "\n",
    "    caminho = f\"/content/{nome_arquivo}\"\n",
    "\n",
    "    if os.path.exists(caminho):\n",
    "        df_existente = pd.read_csv(caminho)\n",
    "        df = pd.concat([df_existente, df], ignore_index=True)\n",
    "\n",
    "    df.to_csv(caminho, index=False)\n",
    "    print(f\"📁 Dados salvos com sucesso em: {caminho}\")\n"
   ]
  },
  {
   "cell_type": "code",
   "execution_count": null,
   "id": "d645565a",
   "metadata": {},
   "outputs": [],
   "source": [
    "salvar_em_csv(resultado)  # \"resultado\" é a lista que pegamos antes com os produtos\n"
   ]
  },
  {
   "cell_type": "code",
   "execution_count": null,
   "id": "f184ee6d",
   "metadata": {},
   "outputs": [],
   "source": [
    "pd.read_csv(\"/content/dados_kabum.csv\").tail()\n"
   ]
  },
  {
   "cell_type": "markdown",
   "id": "1a923ff6",
   "metadata": {},
   "source": [
    "## 🧹 Limpeza e Pré-processamento dos Dados"
   ]
  },
  {
   "cell_type": "code",
   "execution_count": null,
   "id": "2c8c8438",
   "metadata": {},
   "outputs": [],
   "source": [
    "# Imports necessários\n",
    "import pandas as pd\n",
    "\n",
    "# Leitura do CSV\n",
    "df = pd.read_csv(\"/content/dados_kabum.csv\")\n",
    "\n",
    "# Converter a coluna de data\n",
    "df[\"data_coleta\"] = pd.to_datetime(df[\"data_coleta\"], errors=\"coerce\")\n",
    "\n",
    "# Limpeza da coluna de preços\n",
    "# Remove 'R$', remove pontos de milhar, troca vírgula por ponto\n",
    "df[\"preco\"] = df[\"preco\"].replace({'R\\$': '', '\\.': '', ',': '.'}, regex=True)\n",
    "\n",
    "# Converte para float\n",
    "df[\"preco\"] = pd.to_numeric(df[\"preco\"], errors=\"coerce\")\n",
    "\n",
    "# Mostra os primeiros dados para verificação\n",
    "df.head()\n"
   ]
  },
  {
   "cell_type": "markdown",
   "id": "020fa59f",
   "metadata": {},
   "source": [
    "## 📈 Análise Estatística dos Preços Coletados"
   ]
  },
  {
   "cell_type": "code",
   "execution_count": null,
   "id": "a6871df6",
   "metadata": {},
   "outputs": [],
   "source": [
    "# Estatísticas gerais\n",
    "df.describe(include='all')\n"
   ]
  },
  {
   "cell_type": "markdown",
   "id": "e7ae9bff",
   "metadata": {},
   "source": [
    "## 📊 Visualização Interativa dos Preços"
   ]
  },
  {
   "cell_type": "code",
   "execution_count": null,
   "id": "fd6e9f25",
   "metadata": {},
   "outputs": [],
   "source": [
    "import plotly.express as px\n",
    "\n",
    "# Gráfico de linha por nome de produto ao longo do tempo\n",
    "fig = px.line(df.sort_values('data_coleta'), x='data_coleta', y='preco', color='nome', title='📈 Evolução de Preços por Produto', markers=True)\n",
    "fig.update_layout(xaxis_title='Data da Coleta', yaxis_title='Preço (R$)')\n",
    "fig.show()"
   ]
  },
  {
   "cell_type": "code",
   "execution_count": null,
   "id": "a93c2384",
   "metadata": {},
   "outputs": [],
   "source": [
    "# Últimos preços coletados por produto\n",
    "ultimos = df.sort_values('data_coleta').groupby('nome').tail(1)\n",
    "fig_bar = px.bar(ultimos, x='nome', y='preco', title='💰 Últimos Preços Coletados')\n",
    "fig_bar.update_layout(xaxis_title='Produto', yaxis_title='Preço Atual (R$)', xaxis_tickangle=-30)\n",
    "fig_bar.show()"
   ]
  },
  {
   "cell_type": "markdown",
   "id": "02407057",
   "metadata": {},
   "source": [
    "## ✅ Conclusão e Próximos Passos\n",
    "- O dashboard permite monitorar a variação de preços de produtos da KaBuM em tempo quase real.\n",
    "- Pode ser integrado com notificações de alerta de queda de preço.\n",
    "- Um próximo passo seria transformar este notebook em uma aplicação web com [Streamlit](https://streamlit.io/) ou [Gradio](https://www.gradio.app/) para uso mais acessível.\n",
    "\n",
    "**Compartilhamento:** Exporte os gráficos ou salve capturas para uso pessoal ou apresentação."
   ]
  }
 ],
 "metadata": {
  "colab": {
   "authorship_tag": "ABX9TyMlFUsmQLZ7uPydMrzEz4et",
   "cell_execution_strategy": "setup",
   "provenance": []
  },
  "kernelspec": {
   "display_name": "Python 3",
   "name": "python3"
  },
  "language_info": {
   "name": "python"
  }
 },
 "nbformat": 4,
 "nbformat_minor": 0
}
